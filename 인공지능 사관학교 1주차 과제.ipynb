{
  "nbformat": 4,
  "nbformat_minor": 0,
  "metadata": {
    "colab": {
      "name": "Untitled0.ipynb",
      "provenance": [],
      "authorship_tag": "ABX9TyNaEgeW3fqi6a+cHI4EqcEj",
      "include_colab_link": true
    },
    "kernelspec": {
      "name": "python3",
      "display_name": "Python 3"
    }
  },
  "cells": [
    {
      "cell_type": "markdown",
      "metadata": {
        "id": "view-in-github",
        "colab_type": "text"
      },
      "source": [
        "<a href=\"https://colab.research.google.com/github/jinny3548/jinn/blob/master/%EC%9D%B8%EA%B3%B5%EC%A7%80%EB%8A%A5%20%EC%82%AC%EA%B4%80%ED%95%99%EA%B5%90%201%EC%A3%BC%EC%B0%A8%20%EA%B3%BC%EC%A0%9C.ipynb\" target=\"_parent\"><img src=\"https://colab.research.google.com/assets/colab-badge.svg\" alt=\"Open In Colab\"/></a>"
      ]
    },
    {
      "cell_type": "code",
      "metadata": {
        "id": "zOS8b2kVvC9b",
        "colab_type": "code",
        "colab": {}
      },
      "source": [
        ""
      ],
      "execution_count": 0,
      "outputs": []
    },
    {
      "cell_type": "code",
      "metadata": {
        "id": "x1n3MumPvUyJ",
        "colab_type": "code",
        "colab": {}
      },
      "source": [
        ""
      ],
      "execution_count": 0,
      "outputs": []
    },
    {
      "cell_type": "markdown",
      "metadata": {
        "id": "v2U7-x7PvU-b",
        "colab_type": "text"
      },
      "source": [
        "#인공지능의 제품 및 서비스\n",
        "\n",
        "##인공지능의 분야\n",
        "###**1.언어**\n",
        "####언어 인공지능 고객 상담 시스템*(아담 어시스턴트 챗봇)*\n",
        "###**2.음성**\n",
        "####인공지능 스피커*(한국어 전용 AI 스피커 '누구')*\n",
        "###**3.이미지**\n",
        "####인공지능 물체 인식 기법*(YOLO)*\n",
        "###**4.자율주행**\n",
        "####크루즈 컨트롤*(테슬라 NOA)*\n",
        "\n",
        "\n",
        "##출처\n",
        "\n",
        "##인공지능의 분야\n",
        "\n",
        "####**1.언어**\n",
        "\n",
        ">언어 인공지능 \n",
        "   \n",
        ">>인공지능 고객 상담 시스템 *(아담 어시스턴트 챗봇)*\n",
        "  \n",
        ">>>언제 어디서나 24시간 365일 지능형 고객응대 서비스가 가능한 세계 최고 수준의 AI 전문상담 시스템이다.\n",
        "\n",
        ">>>즉각적인 고객응대가 필요한 모든 분야에서 활용된다.\n",
        "\n",
        ">>>콜센터 상담 업무, 쇼핑 상담, 여행, 관광, 의료 서비스 예약, 법률, 건강 등 전문지식 상담, 정부, 지자체 대국민 상담, 행정민원에서 사용된다.\n",
        " \n",
        "\n",
        "###**2.음성**\n",
        "\n",
        ">음성 인공지능 \n",
        "\n",
        ">>인공지능 스피커 *(한국어 전용 Al 스피커 '누구')*\n",
        "\n",
        ">>>기기에 대화하듯 말을 걸면 음성인식 기술과 인공지능 엔진을 통해 고객이 원하는 바를 파악해 수행하는 서비스이다.\n",
        "   \n",
        ">>>누구에게 \"오늘 날씨 알려줄래?\", \"노래 불러줄래?\" 등과 같은 질문을 던지면, 누구는 이를 이해해 날씨 정보를 사용자에게 음성으로 알려주거나 노래를 불러준다. \n",
        "\n",
        "\n",
        "###**3.이미지**\n",
        "\n",
        ">이미지 인공지능\n",
        "\n",
        ">>인공지능 물체 인식 기법 *(YOLO)*\n",
        "\n",
        ">>>딥러닝 알고리즘 세계에서 YOLO는 You Only Look Once로 인공지능 물체 인식 기법이다. 말 그대로 한번 만에 물체를 실시간으로 감지하고 분류할 수 있게 해주며 이 기법은 이미지에서 관심 객체를 배경과 구분해 식별하는 자동화 기법이다. \n",
        "\n",
        ">>>이때 올바른 객체 탐지를 위해서 경계 박스를 설정해 객체의 상태를 나타내는 사물의 카테고리와 연관시킨다. 이러한 물체 인식 기법은 자율주행에 가장 중요한 기술로 사용된다.\n",
        "\n",
        ">>>인공지능 물체 인식 기법은 카메라를 통해 사람의 눈과 같은 기능을 하기 때문에 카매라를 통해 사물 인식, 사람 인식, 차선 인식, 차량 인식, 신호등 인식, 표지판 인식 등 자율주행에 필요한 기본적인 정보를 얻어올 수 있다.\n",
        "\n",
        "\n",
        "###**4.자율주행**\n",
        "\n",
        ">자율주행 인공지능\n",
        "\n",
        ">>크루즈 컨트롤*(테슬라 NOA)*\n",
        "\n",
        ">>>자동차의 속도를 일정하게 유지하도록 하는 '정속 주행 장치' 혹은 '자동 속도 조절 장치'를 일컫는 용어이다.\n",
        "\n",
        ">>>크루즈 컨트롤을 이용하게 되면 속도계를 보지 않고도 제한 속도, 경제 속도를 맞추어 자동차를 운전할 수 있게 되며 센서가 자동차의 속도를 측정하게 되고 거기에 맞추어 카뷰레터를 조절한다.\n",
        "\n",
        ">>>테슬라의 NOA의 정확한 명칭은 '내비게이트 온 오토파일럿(Navigate On Autopilot-NOA)'이다. NOA는 테슬라의 첨단 주행 보조 기술인 오토파일럿을 한 단계 발전시킨 기술이며 내비게이션 지도 데이터를 활용해 차량 스스로 속도 조절은 물론 차선변경까지도 가능하게 하는 기술이다. \n",
        "\n",
        "\n",
        "##출처##\n",
        "\n",
        "**<링크>**\n",
        "\n",
        "\"용어로 보이는 IT - 인공지능(AI) 스피커\" <네이버 캐스트> 2016.12.22\n",
        "[NAVER](https://terms.naver.com/entry.nhn?docld=3580973&cid=59088&categoryld=59096)\n",
        "\n",
        "\"인공지능 고객 상담 시스템, 아담 어시스턴트(ADAM ASSISTANT)\" <네이버 TV - 대한민국인공지능여기까지 솔트룩스> 2019.01.21\n",
        "[NAVER](HTTPS://tv.naver.com/v/5114655)\n",
        "\n",
        "\"재미있는 인공지능 활용 사례\" <네이버 포스트 - LG CNS> 2020.04.16\n",
        "[NAVER](https://m.post.naver.com/viewer/postView.nhn?volumeNo=28004208&memberNo=3185448&vType=VERTICAL)\n",
        "\n",
        "\"크루즈 컨트롤\" <위키백과> 2018.10.29\n",
        "[wikipedia](https://ko.wikipedia.org/wiki/크루즈_컨트롤)\n",
        "\n",
        "\"현존 자율주행 끝판왕, 테슬라 NOA 한국 상륙\" <네이버 포스트 - 다키> 2019.12.30\n",
        "[NAVER](https://m.post.naver.com/viewer/postView.nhn?volumeNo=27183199&memberNo=23315462&vType=VERTICAL)\n",
        "\n",
        "\n",
        "\n",
        "\n",
        "\n",
        "\n",
        "\n",
        "\n",
        "\n",
        "\n",
        "\n",
        "\n",
        "\n",
        "\n",
        "\n",
        "\n",
        "\n",
        "\n",
        "\n",
        "\n",
        "\n",
        "\n",
        "\n",
        "\n"
      ]
    }
  ]
}